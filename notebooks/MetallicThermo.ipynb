{
 "cells": [
  {
   "cell_type": "markdown",
   "id": "20294c94-35b6-47ca-ae0c-b3f2c213a39f",
   "metadata": {},
   "source": [
    "# Panel Flutter Analysis of a Metallic Plate considering Thermal Effects"
   ]
  },
  {
   "cell_type": "code",
   "execution_count": 1,
   "id": "9f6b8a43-b7ae-4200-a865-92fa6414c3ca",
   "metadata": {},
   "outputs": [
    {
     "name": "stdout",
     "output_type": "stream",
     "text": [
      "/home/victor/Projects/UFMG/TCC/nastran-aero-flutter\n",
      "/home/victor/Projects/UFMG/TCC/nastran-aero-flutter/src\n"
     ]
    }
   ],
   "source": [
    "%pwd\n",
    "%cd ..\n",
    "%cd src\n",
    "output_dir = '../notebooks/output/'"
   ]
  },
  {
   "cell_type": "markdown",
   "id": "26f0dca5-9bcf-444c-8e61-e65af8ff0019",
   "metadata": {
    "tags": []
   },
   "source": [
    "## Defining the structural model\n",
    "\n",
    "First we define the plate geometry"
   ]
  },
  {
   "cell_type": "code",
   "execution_count": 2,
   "id": "6d1e0d8d-a0ca-4115-998c-ea82ac39e8d0",
   "metadata": {},
   "outputs": [],
   "source": [
    "import numpy as np\n",
    "\n",
    "ab = 1. # a/b\n",
    "\n",
    "a = 300. # mm\n",
    "\n",
    "b = a/ab\n",
    "\n",
    "p1 = np.array([0, 0, 0])\n",
    "p2 = p1 + np.array([a, 0, 0])\n",
    "p3 = p1 + np.array([a, b, 0])\n",
    "p4 = p1 + np.array([0, b, 0])\n",
    "\n",
    "thickness = 1.5 # mm"
   ]
  },
  {
   "cell_type": "markdown",
   "id": "4f2a9de4-03a0-499a-a199-42a28432ba78",
   "metadata": {},
   "source": [
    "Defining the number of elements in chordwise and spanwise"
   ]
  },
  {
   "cell_type": "code",
   "execution_count": 3,
   "id": "9b288a06-9a7a-46ab-9506-039fca8b6677",
   "metadata": {},
   "outputs": [],
   "source": [
    "nchord, nspan = 20, 20"
   ]
  },
  {
   "cell_type": "markdown",
   "id": "f5a6e33a-22c1-49c4-bff7-eed361fff66b",
   "metadata": {},
   "source": [
    "Defining the material properties\n",
    "\n",
    "- E = 71.7 GPa\n",
    "- G = 26.9 GPa\n",
    "- $\\nu$ = 0.33\n",
    "- $\\rho$ = 2.81 g/cm³\n",
    "- $\\alpha$ = 21e-6 mm/mmC°\n"
   ]
  },
  {
   "cell_type": "code",
   "execution_count": 4,
   "id": "6997961b-ef4a-473f-9ad4-1b08d8833877",
   "metadata": {},
   "outputs": [],
   "source": [
    "from nastran.structures.material import IsotropicMaterial\n",
    "\n",
    "al = IsotropicMaterial(1, 71700., .33, 26900., 2.81e-9, alpha=21e-6)"
   ]
  },
  {
   "cell_type": "markdown",
   "id": "a3ce5563-c12d-4754-af79-f8bacc7ed593",
   "metadata": {},
   "source": [
    "Generating the plate"
   ]
  },
  {
   "cell_type": "code",
   "execution_count": 5,
   "id": "2a74b6ef-9038-443e-9f07-8274ca44e639",
   "metadata": {},
   "outputs": [],
   "source": [
    "from nastran.structures.panel import IsotropicPlate\n",
    "\n",
    "plate = IsotropicPlate.create_plate(p1, p2, p3, p4, nspan, nchord, 1, thickness, al)"
   ]
  },
  {
   "cell_type": "markdown",
   "id": "7ed9cb98-b72a-467a-8c65-131cfd53ece9",
   "metadata": {},
   "source": [
    "## Generating the steady-state thermal analysis"
   ]
  },
  {
   "cell_type": "code",
   "execution_count": 6,
   "id": "0c6fc1f3-24b8-49d7-8bbe-93ab6a8cab42",
   "metadata": {},
   "outputs": [],
   "source": [
    "from nastran.thermo.analysis.steady_state import SteadyStateThermoAnalysisModel, ThermoSubcase\n",
    "\n",
    "params = {\n",
    "    'LGDISP': 1, # uses Large Displacement formulations\n",
    "    'NLTOL': 0, \n",
    "}\n",
    "\n",
    "thermal = SteadyStateThermoAnalysisModel(plate.bdf, params=params)"
   ]
  },
  {
   "cell_type": "markdown",
   "id": "cf168980-0949-4356-88da-872c9cabd6c0",
   "metadata": {},
   "source": [
    "Define temperature range"
   ]
  },
  {
   "cell_type": "code",
   "execution_count": 7,
   "id": "e0867004-76d3-47ad-8126-69446e3bd65d",
   "metadata": {},
   "outputs": [],
   "source": [
    "thermal.init_temp = 0.00001\n",
    "thermal.max_temp = 1000\n",
    "step = 100.\n",
    "thermal.ni = round((thermal.max_temp-thermal.init_temp)/step)"
   ]
  },
  {
   "cell_type": "markdown",
   "id": "6f78eab1-a807-4258-88ae-ddb17baa91b2",
   "metadata": {},
   "source": [
    "Adhoc generation of coordinate systems before the restart"
   ]
  },
  {
   "cell_type": "code",
   "execution_count": 8,
   "id": "1ceb6503-bd3a-49d5-8be6-37aadd08e742",
   "metadata": {},
   "outputs": [],
   "source": [
    "from nastran.aero.superpanels import SuperAeroPanel5\n",
    "\n",
    "spanel_p = SuperAeroPanel5(1, p1, p2, p3, p4, nchord, nspan, theory='VANDYKE')\n",
    "coord = thermal.write_cord2r_cards(spanel_p)"
   ]
  },
  {
   "cell_type": "markdown",
   "id": "ec6f8718-71ab-4a2f-9004-8be43adf6280",
   "metadata": {},
   "source": [
    "Defining Boundary Conditions"
   ]
  },
  {
   "cell_type": "code",
   "execution_count": 9,
   "id": "1d6b3c78-7e62-45bf-96e9-4bc76f7df7a0",
   "metadata": {},
   "outputs": [],
   "source": [
    "from nastran.structures.bc import create_spcs_and_subcases, generate_bc_case\n",
    "from nastran.aero.analysis.panel_flutter import PanelFlutterSubcase\n",
    "\n",
    "spc_cases = {\n",
    "    1: generate_bc_case('SSSS') # Fully simply-supported\n",
    "}\n",
    "\n",
    "nodes = plate.limit_nodes()\n",
    "nodes[2] = nodes[2][1:-1]\n",
    "nodes[3] = nodes[3][1:-1]\n",
    "\n",
    "create_spcs_and_subcases(thermal, spc_cases, nodes, PanelFlutterSubcase)"
   ]
  },
  {
   "cell_type": "markdown",
   "id": "3baab0cd-4018-4abd-929d-d81e2a4fd804",
   "metadata": {},
   "source": [
    "Write and save the model."
   ]
  },
  {
   "cell_type": "code",
   "execution_count": 10,
   "id": "c311c8bb-143c-4567-8a4e-c97b5df001d6",
   "metadata": {},
   "outputs": [
    {
     "name": "stderr",
     "output_type": "stream",
     "text": [
      "subcase=1 already exists...skipping\n"
     ]
    },
    {
     "data": {
      "text/html": [
       "<text style=color:blue>DEBUG:   write_mesh.py:145            ---starting BDF.write_bdf of ../notebooks/output/metallic-thermic.bdf---\n",
       "</text>"
      ],
      "text/plain": [
       "<IPython.core.display.HTML object>"
      ]
     },
     "metadata": {},
     "output_type": "display_data"
    }
   ],
   "source": [
    "thermal.write_cards()\n",
    "thermal_filename = 'metallic-thermic'\n",
    "thermal.model.write_bdf(output_dir+thermal_filename+'.bdf', enddata=True)"
   ]
  },
  {
   "cell_type": "markdown",
   "id": "a8cd2b94-4fd0-447d-9d01-566aee294179",
   "metadata": {},
   "source": [
    "## Generating the Flutter Analysis\n",
    "\n",
    "Configurations for the aeroelastic sequence using the restart from the previous model"
   ]
  },
  {
   "cell_type": "code",
   "execution_count": 11,
   "id": "c96d01c2-752a-4bef-b16f-84dd5a47c3c6",
   "metadata": {},
   "outputs": [],
   "source": [
    "config = {\n",
    "    'vref': 1000.,                      # used to calculate the non-dimensional dynamic pressure must be the same in control case (mm/s in the case)\n",
    "    'ref_rho': 1.225e-12,               # air density reference (ton/mm^3 in the case)\n",
    "    'ref_chord': 300.,                  # reference chord (mm in the case)\n",
    "    'n_modes': 15,                      # number searched modes in modal analysis\n",
    "    'frequency_limits': \n",
    "        [.0, 1000.],                    # the range of frequency (Hz) in modal analysis\n",
    "    'method': 'PK',                     # the method for solving flutter (it will determine the next parameters\n",
    "    'densities_ratio': [.5],            # rho/rho_ref -> 1/2 simulates the \"one side flow\" of the panel (? reference ?)\n",
    "    'machs': [3.0],                     # Mach numbers\n",
    "    'alphas': [0., 0., 0., 0.],         # AoA (°) -> 0 is more conservative (? reference ?)\n",
    "    'reduced_frequencies': \n",
    "        [.001, .1, .2, .4],             # reduced frequencies (k) (check influence)\n",
    "    'velocities':                       # velocities (mm/s in the case)\n",
    "        np.linspace(822, 1066, 50)*1000,\n",
    "}"
   ]
  },
  {
   "cell_type": "code",
   "execution_count": 12,
   "id": "ff5b204f-d0ae-4d01-8e6e-76b85ddfb66f",
   "metadata": {},
   "outputs": [],
   "source": [
    "params =  {\n",
    "    'VREF': 1000.0,\n",
    "    'COUPMASS': 1,\n",
    "    'LMODES': 15,\n",
    "    'WTMASS': 1.,\n",
    "    'GRDPNT': 1,\n",
    "    'OPPHIPA': 1,\n",
    "    # 'POST': [-1]\n",
    "}"
   ]
  },
  {
   "cell_type": "markdown",
   "id": "b9bad0ec-e868-483d-9fea-24680823d7ce",
   "metadata": {},
   "source": [
    "Generating the Panel Flutter analysis"
   ]
  },
  {
   "cell_type": "code",
   "execution_count": 13,
   "id": "bd391edb-4804-42e0-986f-38fa42357bad",
   "metadata": {},
   "outputs": [],
   "source": [
    "from nastran.aero.analysis.panel_flutter import PanelFlutterPistonAnalysisModel\n",
    "\n",
    "analysis = PanelFlutterPistonAnalysisModel(params=params)\n",
    "analysis.set_global_case_from_dict(config)"
   ]
  },
  {
   "cell_type": "markdown",
   "id": "35db8335-ac95-45ca-beb8-6fdc64ae9beb",
   "metadata": {},
   "source": [
    "Adding the Aerodynamic model"
   ]
  },
  {
   "cell_type": "code",
   "execution_count": 14,
   "id": "9736390e-8094-4cca-b9c1-edc25565ddc1",
   "metadata": {},
   "outputs": [
    {
     "name": "stdout",
     "output_type": "stream",
     "text": [
      "Aerodynamic Flutter solution created!\n"
     ]
    }
   ],
   "source": [
    "spanel_p = SuperAeroPanel5(1, p1, p2, p3, p4, nchord, nspan, theory='VANDYKE')\n",
    "analysis.add_superpanel(spanel_p)\n",
    "\n",
    "analysis.write_cards()"
   ]
  },
  {
   "cell_type": "markdown",
   "id": "ffcf1f03-93e0-420c-8187-eff22ded2ba2",
   "metadata": {},
   "source": [
    "For each temperature case generate a model"
   ]
  },
  {
   "cell_type": "code",
   "execution_count": 15,
   "id": "cf9c1687-a420-4e4c-a965-d40f740b200e",
   "metadata": {},
   "outputs": [
    {
     "name": "stderr",
     "output_type": "stream",
     "text": [
      "subcase=1 already exists...skipping\n",
      "subcase=1 already exists...skipping\n",
      "subcase=1 already exists...skipping\n",
      "subcase=1 already exists...skipping\n",
      "subcase=1 already exists...skipping\n",
      "subcase=1 already exists...skipping\n",
      "subcase=1 already exists...skipping\n",
      "subcase=1 already exists...skipping\n",
      "subcase=1 already exists...skipping\n"
     ]
    }
   ],
   "source": [
    "temp_cases = np.linspace(thermal.init_temp, thermal.max_temp, thermal.ni)\n",
    "temp_names = []\n",
    "\n",
    "for i, temp in enumerate(temp_cases):\n",
    "    sub_config = {\n",
    "        'LABEL': 'TEMP LOAD %f' % temp,\n",
    "    }\n",
    "\n",
    "    analysis.model.case_control_deck.create_new_subcase(1)\n",
    "    analysis.model.case_control_deck.add_parameter_to_local_subcase(1, 'PARAM, NMLOOP, %d' % (i+1))\n",
    "    analysis.model.case_control_deck.add_parameter_to_local_subcase(1, 'LABEL =  TEMP LOAD %f' % temp)\n",
    "    analysis.model.case_control_deck.add_parameter_to_local_subcase(1, 'SPC =  %d' % 1)\n",
    "\n",
    "    restart_filename = 'thermal-restart-'+str(i+1)+'.r'\n",
    "    temp_names.append(restart_filename)\n",
    "    analysis.model.write_bdf(output_dir+restart_filename+'.bdf', enddata=True)\n",
    "\n",
    "    with open(output_dir+restart_filename+'.bdf', 'r') as f:\n",
    "        lines = f.readlines()\n",
    "\n",
    "    lines.insert(0, \"ASSIGN MASTER='.\\\\\"+ thermal_filename +\".MASTER'\\n\")\n",
    "    lines.insert(1,'RESTART VERSION=1,KEEP\\n')\n",
    "\n",
    "    with open(output_dir+restart_filename+'.bdf', 'w') as f:\n",
    "        f.writelines(lines)"
   ]
  },
  {
   "cell_type": "markdown",
   "id": "f42bebe4-aad7-44ee-bca9-b23ca8532898",
   "metadata": {},
   "source": [
    "## Post-processing"
   ]
  },
  {
   "cell_type": "code",
   "execution_count": 17,
   "id": "7c0c291c-f698-40a1-ba67-381cf84b8312",
   "metadata": {},
   "outputs": [],
   "source": [
    "from nastran.post.f06 import read_f06\n",
    "from nastran.post.flutter import get_critical_roots, join_flutter_pages, flutter_pages_to_df\n",
    "from nastran.post.plots import plot_vf_vg\n"
   ]
  },
  {
   "cell_type": "markdown",
   "id": "b1d162cd-c618-44e8-83f7-2927f158c314",
   "metadata": {},
   "source": [
    "Processing for T = 0.0001 °C"
   ]
  },
  {
   "cell_type": "code",
   "execution_count": 18,
   "id": "d25decfa-a70b-4434-92df-5663693efb75",
   "metadata": {},
   "outputs": [
    {
     "data": {
      "text/plain": [
       "F06 Results with 70 pages."
      ]
     },
     "execution_count": 18,
     "metadata": {},
     "output_type": "execute_result"
    }
   ],
   "source": [
    "restart_filename = 'thermal-restart-1'\n",
    "res = read_f06(output_dir+restart_filename+'.f06')\n",
    "res"
   ]
  },
  {
   "cell_type": "code",
   "execution_count": 19,
   "id": "2d9b9447-6fe6-499a-9651-beae9270ae6d",
   "metadata": {},
   "outputs": [
    {
     "data": {
      "text/plain": [
       "[FLUTTER F06 PAGE\tSUBCASE=1\tLABEL=TEMP LOAD 0.000010\tMODE=1,\n",
       " FLUTTER F06 PAGE\tSUBCASE=1\tLABEL=TEMP LOAD 0.000010\tMODE=2,\n",
       " FLUTTER F06 PAGE\tSUBCASE=1\tLABEL=TEMP LOAD 0.000010\tMODE=3,\n",
       " FLUTTER F06 PAGE\tSUBCASE=1\tLABEL=TEMP LOAD 0.000010\tMODE=4,\n",
       " FLUTTER F06 PAGE\tSUBCASE=1\tLABEL=TEMP LOAD 0.000010\tMODE=5,\n",
       " FLUTTER F06 PAGE\tSUBCASE=1\tLABEL=TEMP LOAD 0.000010\tMODE=6,\n",
       " FLUTTER F06 PAGE\tSUBCASE=1\tLABEL=TEMP LOAD 0.000010\tMODE=7,\n",
       " FLUTTER F06 PAGE\tSUBCASE=1\tLABEL=TEMP LOAD 0.000010\tMODE=8,\n",
       " FLUTTER F06 PAGE\tSUBCASE=1\tLABEL=TEMP LOAD 0.000010\tMODE=9,\n",
       " FLUTTER F06 PAGE\tSUBCASE=1\tLABEL=TEMP LOAD 0.000010\tMODE=10,\n",
       " FLUTTER F06 PAGE\tSUBCASE=1\tLABEL=TEMP LOAD 0.000010\tMODE=11,\n",
       " FLUTTER F06 PAGE\tSUBCASE=1\tLABEL=TEMP LOAD 0.000010\tMODE=12,\n",
       " FLUTTER F06 PAGE\tSUBCASE=1\tLABEL=TEMP LOAD 0.000010\tMODE=13,\n",
       " FLUTTER F06 PAGE\tSUBCASE=1\tLABEL=TEMP LOAD 0.000010\tMODE=14,\n",
       " FLUTTER F06 PAGE\tSUBCASE=1\tLABEL=TEMP LOAD 0.000010\tMODE=15]"
      ]
     },
     "execution_count": 19,
     "metadata": {},
     "output_type": "execute_result"
    }
   ],
   "source": [
    "pages = join_flutter_pages(res.flutter)\n",
    "pages"
   ]
  },
  {
   "cell_type": "code",
   "execution_count": 20,
   "id": "47946500-4689-463a-9c2b-67ebecac604b",
   "metadata": {},
   "outputs": [
    {
     "data": {
      "text/html": [
       "<div>\n",
       "<style scoped>\n",
       "    .dataframe tbody tr th:only-of-type {\n",
       "        vertical-align: middle;\n",
       "    }\n",
       "\n",
       "    .dataframe tbody tr th {\n",
       "        vertical-align: top;\n",
       "    }\n",
       "\n",
       "    .dataframe thead th {\n",
       "        text-align: right;\n",
       "    }\n",
       "</style>\n",
       "<table border=\"1\" class=\"dataframe\">\n",
       "  <thead>\n",
       "    <tr style=\"text-align: right;\">\n",
       "      <th></th>\n",
       "      <th></th>\n",
       "      <th></th>\n",
       "      <th></th>\n",
       "      <th>KFREQ</th>\n",
       "      <th>1./KFREQ</th>\n",
       "      <th>VELOCITY</th>\n",
       "      <th>DAMPING</th>\n",
       "      <th>FREQUENCY</th>\n",
       "      <th>REALEIGVAL</th>\n",
       "      <th>IMAGEIGVAL</th>\n",
       "    </tr>\n",
       "    <tr>\n",
       "      <th>SUBCASE</th>\n",
       "      <th>MACH NUMBER</th>\n",
       "      <th>POINT</th>\n",
       "      <th>INDEX</th>\n",
       "      <th></th>\n",
       "      <th></th>\n",
       "      <th></th>\n",
       "      <th></th>\n",
       "      <th></th>\n",
       "      <th></th>\n",
       "      <th></th>\n",
       "    </tr>\n",
       "  </thead>\n",
       "  <tbody>\n",
       "    <tr>\n",
       "      <th rowspan=\"11\" valign=\"top\">1</th>\n",
       "      <th rowspan=\"11\" valign=\"top\">3.0</th>\n",
       "      <th rowspan=\"5\" valign=\"top\">1</th>\n",
       "      <th>0</th>\n",
       "      <td>0.1371</td>\n",
       "      <td>7.291685</td>\n",
       "      <td>822.0000</td>\n",
       "      <td>-0.112849</td>\n",
       "      <td>119.61147</td>\n",
       "      <td>-42.405253</td>\n",
       "      <td>751.54101</td>\n",
       "    </tr>\n",
       "    <tr>\n",
       "      <th>1</th>\n",
       "      <td>0.1373</td>\n",
       "      <td>7.281624</td>\n",
       "      <td>826.9796</td>\n",
       "      <td>-0.112693</td>\n",
       "      <td>120.50233</td>\n",
       "      <td>-42.662160</td>\n",
       "      <td>757.13848</td>\n",
       "    </tr>\n",
       "    <tr>\n",
       "      <th>2</th>\n",
       "      <td>0.1375</td>\n",
       "      <td>7.270734</td>\n",
       "      <td>831.9592</td>\n",
       "      <td>-0.112525</td>\n",
       "      <td>121.40950</td>\n",
       "      <td>-42.919069</td>\n",
       "      <td>762.83837</td>\n",
       "    </tr>\n",
       "    <tr>\n",
       "      <th>3</th>\n",
       "      <td>0.1378</td>\n",
       "      <td>7.259012</td>\n",
       "      <td>836.9388</td>\n",
       "      <td>-0.112343</td>\n",
       "      <td>122.33340</td>\n",
       "      <td>-43.175979</td>\n",
       "      <td>768.64339</td>\n",
       "    </tr>\n",
       "    <tr>\n",
       "      <th>4</th>\n",
       "      <td>0.1380</td>\n",
       "      <td>7.246456</td>\n",
       "      <td>841.9184</td>\n",
       "      <td>-0.112149</td>\n",
       "      <td>123.27449</td>\n",
       "      <td>-43.432891</td>\n",
       "      <td>774.55647</td>\n",
       "    </tr>\n",
       "    <tr>\n",
       "      <th>...</th>\n",
       "      <th>...</th>\n",
       "      <td>...</td>\n",
       "      <td>...</td>\n",
       "      <td>...</td>\n",
       "      <td>...</td>\n",
       "      <td>...</td>\n",
       "      <td>...</td>\n",
       "      <td>...</td>\n",
       "    </tr>\n",
       "    <tr>\n",
       "      <th rowspan=\"5\" valign=\"top\">15</th>\n",
       "      <th>45</th>\n",
       "      <td>1.2382</td>\n",
       "      <td>0.807639</td>\n",
       "      <td>1046.0820</td>\n",
       "      <td>-0.013390</td>\n",
       "      <td>1374.28600</td>\n",
       "      <td>-57.810738</td>\n",
       "      <td>8634.89370</td>\n",
       "    </tr>\n",
       "    <tr>\n",
       "      <th>46</th>\n",
       "      <td>1.2323</td>\n",
       "      <td>0.811496</td>\n",
       "      <td>1051.0610</td>\n",
       "      <td>-0.013454</td>\n",
       "      <td>1374.26460</td>\n",
       "      <td>-58.086014</td>\n",
       "      <td>8634.75910</td>\n",
       "    </tr>\n",
       "    <tr>\n",
       "      <th>47</th>\n",
       "      <td>1.2265</td>\n",
       "      <td>0.815354</td>\n",
       "      <td>1056.0410</td>\n",
       "      <td>-0.013518</td>\n",
       "      <td>1374.24290</td>\n",
       "      <td>-58.361347</td>\n",
       "      <td>8634.62250</td>\n",
       "    </tr>\n",
       "    <tr>\n",
       "      <th>48</th>\n",
       "      <td>1.2207</td>\n",
       "      <td>0.819211</td>\n",
       "      <td>1061.0200</td>\n",
       "      <td>-0.013582</td>\n",
       "      <td>1374.22080</td>\n",
       "      <td>-58.636629</td>\n",
       "      <td>8634.48410</td>\n",
       "    </tr>\n",
       "    <tr>\n",
       "      <th>49</th>\n",
       "      <td>1.2150</td>\n",
       "      <td>0.823070</td>\n",
       "      <td>1066.0000</td>\n",
       "      <td>-0.013646</td>\n",
       "      <td>1374.19850</td>\n",
       "      <td>-58.911968</td>\n",
       "      <td>8634.34360</td>\n",
       "    </tr>\n",
       "  </tbody>\n",
       "</table>\n",
       "<p>750 rows × 7 columns</p>\n",
       "</div>"
      ],
      "text/plain": [
       "                                  KFREQ  1./KFREQ   VELOCITY   DAMPING  \\\n",
       "SUBCASE MACH NUMBER POINT INDEX                                          \n",
       "1       3.0         1     0      0.1371  7.291685   822.0000 -0.112849   \n",
       "                          1      0.1373  7.281624   826.9796 -0.112693   \n",
       "                          2      0.1375  7.270734   831.9592 -0.112525   \n",
       "                          3      0.1378  7.259012   836.9388 -0.112343   \n",
       "                          4      0.1380  7.246456   841.9184 -0.112149   \n",
       "...                                 ...       ...        ...       ...   \n",
       "                    15    45     1.2382  0.807639  1046.0820 -0.013390   \n",
       "                          46     1.2323  0.811496  1051.0610 -0.013454   \n",
       "                          47     1.2265  0.815354  1056.0410 -0.013518   \n",
       "                          48     1.2207  0.819211  1061.0200 -0.013582   \n",
       "                          49     1.2150  0.823070  1066.0000 -0.013646   \n",
       "\n",
       "                                  FREQUENCY  REALEIGVAL  IMAGEIGVAL  \n",
       "SUBCASE MACH NUMBER POINT INDEX                                      \n",
       "1       3.0         1     0       119.61147  -42.405253   751.54101  \n",
       "                          1       120.50233  -42.662160   757.13848  \n",
       "                          2       121.40950  -42.919069   762.83837  \n",
       "                          3       122.33340  -43.175979   768.64339  \n",
       "                          4       123.27449  -43.432891   774.55647  \n",
       "...                                     ...         ...         ...  \n",
       "                    15    45     1374.28600  -57.810738  8634.89370  \n",
       "                          46     1374.26460  -58.086014  8634.75910  \n",
       "                          47     1374.24290  -58.361347  8634.62250  \n",
       "                          48     1374.22080  -58.636629  8634.48410  \n",
       "                          49     1374.19850  -58.911968  8634.34360  \n",
       "\n",
       "[750 rows x 7 columns]"
      ]
     },
     "execution_count": 20,
     "metadata": {},
     "output_type": "execute_result"
    }
   ],
   "source": [
    "df = flutter_pages_to_df(pages)\n",
    "df"
   ]
  },
  {
   "cell_type": "code",
   "execution_count": 21,
   "id": "88de7e6d-02ad-4509-a214-d4d6ca9bbc3b",
   "metadata": {},
   "outputs": [
    {
     "data": {
      "image/png": "[encoded data removed]",
      "text/plain": [
       "<Figure size 432x288 with 2 Axes>"
      ]
     },
     "metadata": {
      "needs_background": "light"
     },
     "output_type": "display_data"
    }
   ],
   "source": [
    "p = plot_vf_vg(df)"
   ]
  },
  {
   "cell_type": "code",
   "execution_count": 22,
   "id": "51695a08-f13a-42fb-94b1-8b63ac1fba63",
   "metadata": {},
   "outputs": [
    {
     "data": {
      "image/png": "[encoded data removed]",
      "text/plain": [
       "<Figure size 432x288 with 2 Axes>"
      ]
     },
     "metadata": {
      "needs_background": "light"
     },
     "output_type": "display_data"
    }
   ],
   "source": [
    "p = plot_vf_vg(df, modes=(1,2))"
   ]
  },
  {
   "cell_type": "markdown",
   "id": "d77c8652-4492-43a0-bf78-231e01a71dda",
   "metadata": {},
   "source": [
    "Viewing the vf vg plot for T=1000 C°"
   ]
  },
  {
   "cell_type": "code",
   "execution_count": 23,
   "id": "7ebdfb65-131c-4416-8491-c901df93d7f9",
   "metadata": {},
   "outputs": [
    {
     "data": {
      "image/png": "[encoded data removed]",
      "text/plain": [
       "<Figure size 432x288 with 2 Axes>"
      ]
     },
     "metadata": {
      "needs_background": "light"
     },
     "output_type": "display_data"
    }
   ],
   "source": [
    "restart_filename = 'thermal-restart-10'\n",
    "res = read_f06(output_dir+restart_filename+'.f06')\n",
    "pages = join_flutter_pages(res.flutter)\n",
    "df = flutter_pages_to_df(pages)\n",
    "p = plot_vf_vg(df)"
   ]
  },
  {
   "cell_type": "code",
   "execution_count": 24,
   "id": "399b98ee-2be1-4807-a4e2-cac88721a8f7",
   "metadata": {},
   "outputs": [
    {
     "data": {
      "image/png": "[encoded data removed]",
      "text/plain": [
       "<Figure size 432x288 with 2 Axes>"
      ]
     },
     "metadata": {
      "needs_background": "light"
     },
     "output_type": "display_data"
    }
   ],
   "source": [
    "p = plot_vf_vg(df, modes=(1,2))"
   ]
  },
  {
   "cell_type": "code",
   "execution_count": 25,
   "id": "6e37716f-e2b4-4d99-b58b-ee46b6966e86",
   "metadata": {},
   "outputs": [
    {
     "data": {
      "text/plain": [
       "<matplotlib.collections.PathCollection at 0x7ff08f15af20>"
      ]
     },
     "execution_count": 25,
     "metadata": {},
     "output_type": "execute_result"
    },
    {
     "data": {
      "image/png": "[encoded data removed]",
      "text/plain": [
       "<Figure size 432x288 with 1 Axes>"
      ]
     },
     "metadata": {
      "needs_background": "light"
     },
     "output_type": "display_data"
    }
   ],
   "source": [
    "from matplotlib import pyplot as plt\n",
    "\n",
    "Vs = []\n",
    "for i in range(1,11):\n",
    "    restart_filename = 'thermal-restart-{}'.format(i)\n",
    "    res = read_f06(output_dir+restart_filename+'.f06')\n",
    "    pages = join_flutter_pages(res.flutter)\n",
    "    df = flutter_pages_to_df(pages)\n",
    "    df = get_critical_roots(df)\n",
    "    Vs.append(df.VELOCITY.iloc[0])\n",
    "    \n",
    "plt.scatter(temp_cases, Vs, marker='o')"
   ]
  }
 ],
 "metadata": {
  "kernelspec": {
   "display_name": "Python 3 (ipykernel)",
   "language": "python",
   "name": "python3"
  },
  "language_info": {
   "codemirror_mode": {
    "name": "ipython",
    "version": 3
   },
   "file_extension": ".py",
   "mimetype": "text/x-python",
   "name": "python",
   "nbconvert_exporter": "python",
   "pygments_lexer": "ipython3",
   "version": "3.10.1"
  }
 },
 "nbformat": 4,
 "nbformat_minor": 5
}
